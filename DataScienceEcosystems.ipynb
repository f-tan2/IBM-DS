{
 "cells": [
  {
   "cell_type": "markdown",
   "id": "40a924ee-8b91-47e0-900b-c7160cfe9476",
   "metadata": {},
   "source": [
    "# Data Science Tools and Ecosystems"
   ]
  },
  {
   "cell_type": "markdown",
   "id": "ecb4542f-c742-4676-9ac7-342ad83e0a15",
   "metadata": {},
   "source": [
    "### In this notebook, Data Science Tools and Ecosystems are summarized"
   ]
  },
  {
   "cell_type": "markdown",
   "id": "71a1dc3b-ad58-4a05-8e17-d937f9222530",
   "metadata": {},
   "source": [
    "**Objectives:**\n",
    "* List popular languages for Data Science\n",
    "* List commonly used libraries for Data Science\n",
    "* List useful IDEs for Data Science\n",
    "* Provide basic examples of code in jupyter notebooks\n",
    "\n",
    "  "
   ]
  },
  {
   "cell_type": "markdown",
   "id": "0573eeea-aeba-454d-a424-f802eecbc083",
   "metadata": {},
   "source": [
    "### Some of the popular languages that Data Scientists use are:\n",
    "\n",
    "1. Python\n",
    "2. R\n",
    "3. SQL\n",
    "4. Java\n",
    "5. C++"
   ]
  },
  {
   "cell_type": "markdown",
   "id": "62014fa5-145d-412f-8e0b-279322c402d0",
   "metadata": {},
   "source": [
    "### Come of the commonly used libraries used by Data Scientists\n",
    "1. pandas\n",
    "2. NumPy\n",
    "3. matplotlib\n",
    "4. TensorFlow\n",
    "5. PyTorch\n",
    "6. ggplot2"
   ]
  },
  {
   "cell_type": "markdown",
   "id": "f543a9e9-e997-4956-af51-4876ac1f1665",
   "metadata": {},
   "source": [
    "### Data Science Tools Table\n",
    "|Data Science Tools|\n",
    "| --- |\n",
    "| Jupyter | \n",
    "| R Studio | \n",
    "| Apache Zepplin |\n"
   ]
  },
  {
   "cell_type": "markdown",
   "id": "f730fea4-907a-4758-bfa8-2f74435eb914",
   "metadata": {},
   "source": [
    "### Below are a few examples of evaluating arithmetic expressions in Python\n"
   ]
  },
  {
   "cell_type": "code",
   "execution_count": 3,
   "id": "71ba7c09-8406-42f1-adcf-75c56f2c1e77",
   "metadata": {},
   "outputs": [
    {
     "data": {
      "text/plain": [
       "17"
      ]
     },
     "execution_count": 3,
     "metadata": {},
     "output_type": "execute_result"
    }
   ],
   "source": [
    "##  This a simple arithmetic expression to mutiply then add integers ##\n",
    "(3 * 4) + 5"
   ]
  },
  {
   "cell_type": "code",
   "execution_count": 13,
   "id": "88b67946-40c4-4581-8de1-1bd1b88a96a9",
   "metadata": {},
   "outputs": [
    {
     "name": "stdout",
     "output_type": "stream",
     "text": [
      "200 minutes equals 3.3333333333333335 hours\n"
     ]
    }
   ],
   "source": [
    "## This will convert 200 minutes to hours by diving by 60 ##\n",
    "\n",
    "x = 200\n",
    "y = 60\n",
    "z = x / y\n",
    "print(x, \"minutes equals\", z, \"hours\")"
   ]
  }
 ],
 "metadata": {
  "kernelspec": {
   "display_name": "Python 3 (ipykernel)",
   "language": "python",
   "name": "python3"
  },
  "language_info": {
   "codemirror_mode": {
    "name": "ipython",
    "version": 3
   },
   "file_extension": ".py",
   "mimetype": "text/x-python",
   "name": "python",
   "nbconvert_exporter": "python",
   "pygments_lexer": "ipython3",
   "version": "3.11.7"
  }
 },
 "nbformat": 4,
 "nbformat_minor": 5
}
